{
 "cells": [
  {
   "cell_type": "code",
   "execution_count": 3,
   "id": "eb5943d5",
   "metadata": {},
   "outputs": [
    {
     "name": "stdout",
     "output_type": "stream",
     "text": [
      "    name  salary  age  performance score\n",
      "0  aaqib   20000   11                 23\n",
      "1  ahmed   30000   22                 67\n",
      "2   khan    2122   32                 87\n",
      "3  allen  100000   11                 65\n",
      "4  alina   56000   34                 77\n",
      "5   nemo   40000   54                 87\n",
      "    name  salary  age  performance score    bonus\n",
      "0  aaqib   20000   11                 23   2000.0\n",
      "1  ahmed   30000   22                 67   3000.0\n",
      "2   khan    2122   32                 87    212.2\n",
      "3  allen  100000   11                 65  10000.0\n",
      "4  alina   56000   34                 77   5600.0\n",
      "5   nemo   40000   54                 87   4000.0\n"
     ]
    }
   ],
   "source": [
    "# adding coloumns \n",
    "import pandas as pd\n",
    "\n",
    "data={\n",
    "    \"name\":[\"aaqib\",\"ahmed\",\"khan\",\"allen\",\"alina\",\"nemo\"],\n",
    "    \"salary\":[20000,30000,2122,100000,56000,40000],\n",
    "    \"age\":[11,22,32,11,34,54],\n",
    "    \"performance score\":[23,67,87,65,77,87]\n",
    "\n",
    "}\n",
    "df=pd.DataFrame(data)\n",
    "#  square brackets df(\"coloumn name\") some data\n",
    "print(df)\n",
    "df[\"bonus\"]=df[\"salary\"] *0.1\n",
    "print(df)"
   ]
  },
  {
   "cell_type": "code",
   "execution_count": 5,
   "id": "34442562",
   "metadata": {},
   "outputs": [
    {
     "name": "stdout",
     "output_type": "stream",
     "text": [
      "    name  salary  age  performance score\n",
      "0  aaqib   20000   11                 23\n",
      "1  ahmed   30000   22                 67\n",
      "2   khan    2122   32                 87\n",
      "3  allen  100000   11                 65\n",
      "4  alina   56000   34                 77\n",
      "5   nemo   40000   54                 87\n",
      "    name  salary  age  performance score    bonus\n",
      "0  aaqib   20000   11                 23   2000.0\n",
      "1  ahmed   30000   22                 67   3000.0\n",
      "2   khan    2122   32                 87    212.2\n",
      "3  allen  100000   11                 65  10000.0\n",
      "4  alina   56000   34                 77   5600.0\n",
      "5   nemo   40000   54                 87   4000.0\n",
      "   employee id   name  salary  age  performance score    bonus\n",
      "0           10  aaqib   20000   11                 23   2000.0\n",
      "1           20  ahmed   30000   22                 67   3000.0\n",
      "2           30   khan    2122   32                 87    212.2\n",
      "3           40  allen  100000   11                 65  10000.0\n",
      "4           50  alina   56000   34                 77   5600.0\n",
      "5          600   nemo   40000   54                 87   4000.0\n"
     ]
    }
   ],
   "source": [
    "# adding coloumns \n",
    "\n",
    "# using insert\n",
    "# df.(loc,\"coloumn name\",some_data)\n",
    "import pandas as pd\n",
    "\n",
    "data={\n",
    "    \"name\":[\"aaqib\",\"ahmed\",\"khan\",\"allen\",\"alina\",\"nemo\"],\n",
    "    \"salary\":[20000,30000,2122,100000,56000,40000],\n",
    "    \"age\":[11,22,32,11,34,54],\n",
    "    \"performance score\":[23,67,87,65,77,87]\n",
    "\n",
    "}\n",
    "df=pd.DataFrame(data)\n",
    "#  square brackets df(\"coloumn name\") some data\n",
    "print(df)\n",
    "df[\"bonus\"]=df[\"salary\"] *0.1\n",
    "print(df)\n",
    "\n",
    "df.insert(0,\"employee id\",[10,20,30,40,50,600])\n",
    "print(df)"
   ]
  }
 ],
 "metadata": {
  "kernelspec": {
   "display_name": "base",
   "language": "python",
   "name": "python3"
  },
  "language_info": {
   "codemirror_mode": {
    "name": "ipython",
    "version": 3
   },
   "file_extension": ".py",
   "mimetype": "text/x-python",
   "name": "python",
   "nbconvert_exporter": "python",
   "pygments_lexer": "ipython3",
   "version": "3.11.7"
  }
 },
 "nbformat": 4,
 "nbformat_minor": 5
}
