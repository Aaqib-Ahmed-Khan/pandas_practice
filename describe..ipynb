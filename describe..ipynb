{
 "cells": [
  {
   "cell_type": "code",
   "execution_count": 5,
   "id": "727ad566",
   "metadata": {},
   "outputs": [
    {
     "name": "stdout",
     "output_type": "stream",
     "text": [
      "sample dataframe\n",
      "    name  salary  age  performance score\n",
      "0  aaqib   20000   11                 23\n",
      "1  ahmed   30000   22                 67\n",
      "2   khan    2122   32                 87\n",
      "3  allen  100000   11                 65\n",
      "4  alina   56000   34                 77\n",
      "5   nemo   40000   54                 87\n",
      "desciptive statistics\n",
      "              salary        age  performance score\n",
      "count       6.000000   6.000000           6.000000\n",
      "mean    41353.666667  27.333333          67.666667\n",
      "std     33999.260002  16.366633          23.821559\n",
      "min      2122.000000  11.000000          23.000000\n",
      "25%     22500.000000  13.750000          65.500000\n",
      "50%     35000.000000  27.000000          72.000000\n",
      "75%     52000.000000  33.500000          84.500000\n",
      "max    100000.000000  54.000000          87.000000\n"
     ]
    }
   ],
   "source": [
    "import pandas as pd\n",
    "data={\n",
    "    \"name\":[\"aaqib\",\"ahmed\",\"khan\",\"allen\",\"alina\",\"nemo\"],\n",
    "    \"salary\":[20000,30000,2122,100000,56000,40000],\n",
    "    \"age\":[11,22,32,11,34,54],\n",
    "    \"performance score\":[23,67,87,65,77,87]\n",
    "\n",
    "}\n",
    "df=pd.DataFrame(data)\n",
    "print(\"sample dataframe\")\n",
    "print(df)\n",
    "print(\"desciptive statistics\")\n",
    "print(df.describe())"
   ]
  }
 ],
 "metadata": {
  "kernelspec": {
   "display_name": "base",
   "language": "python",
   "name": "python3"
  },
  "language_info": {
   "codemirror_mode": {
    "name": "ipython",
    "version": 3
   },
   "file_extension": ".py",
   "mimetype": "text/x-python",
   "name": "python",
   "nbconvert_exporter": "python",
   "pygments_lexer": "ipython3",
   "version": "3.11.7"
  }
 },
 "nbformat": 4,
 "nbformat_minor": 5
}
