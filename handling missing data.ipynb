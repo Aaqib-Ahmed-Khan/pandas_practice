{
 "cells": [
  {
   "cell_type": "code",
   "execution_count": 4,
   "id": "935f1c1a",
   "metadata": {},
   "outputs": [
    {
     "name": "stdout",
     "output_type": "stream",
     "text": [
      "    name    salary   age  performance score\n",
      "0  aaqib   20000.0  11.0               23.0\n",
      "1  ahmed       NaN  22.0                NaN\n",
      "2   None    2122.0  32.0               87.0\n",
      "3  allen  100000.0   NaN               65.0\n",
      "4  alina   56000.0  34.0               77.0\n",
      "5   nemo   40000.0  54.0               87.0\n",
      "name                 1\n",
      "salary               1\n",
      "age                  1\n",
      "performance score    1\n",
      "dtype: int64\n"
     ]
    }
   ],
   "source": [
    "import pandas as pd\n",
    "\n",
    "data={\n",
    "    \"name\":[\"aaqib\",\"ahmed\",None,\"allen\",\"alina\",\"nemo\"],\n",
    "    \"salary\":[20000,None,2122,100000,56000,40000],\n",
    "    \"age\":[11,22,32,None,34,54],\n",
    "    \"performance score\":[23,None,87,65,77,87]\n",
    "\n",
    "}\n",
    "df=pd.DataFrame(data)\n",
    "print(df)\n",
    "print(df.isnull().sum())"
   ]
  }
 ],
 "metadata": {
  "kernelspec": {
   "display_name": "base",
   "language": "python",
   "name": "python3"
  },
  "language_info": {
   "codemirror_mode": {
    "name": "ipython",
    "version": 3
   },
   "file_extension": ".py",
   "mimetype": "text/x-python",
   "name": "python",
   "nbconvert_exporter": "python",
   "pygments_lexer": "ipython3",
   "version": "3.11.7"
  }
 },
 "nbformat": 4,
 "nbformat_minor": 5
}
