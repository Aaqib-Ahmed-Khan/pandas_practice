{
 "cells": [
  {
   "cell_type": "code",
   "execution_count": 4,
   "id": "df67865e",
   "metadata": {},
   "outputs": [
    {
     "name": "stdout",
     "output_type": "stream",
     "text": [
      "    name  salary  age  performance score\n",
      "0  aaqib   20000   11                 23\n",
      "1  ahmed   30000   22                 67\n",
      "2   khan    2122   32                 87\n",
      "3  allen  100000   11                 65\n",
      "4  alina   56000   34                 77\n",
      "5   nemo   40000   54                 87\n",
      "    name  salary  age  performance score\n",
      "0  aaqib   55000   11                 23\n",
      "1  ahmed   30000   22                 67\n",
      "2   khan    2122   32                 87\n",
      "3  allen  100000   11                 65\n",
      "4  alina   56000   34                 77\n",
      "5   nemo   40000   54                 87\n"
     ]
    }
   ],
   "source": [
    "import pandas as pd\n",
    "data={\n",
    "    \"name\":[\"aaqib\",\"ahmed\",\"khan\",\"allen\",\"alina\",\"nemo\"],\n",
    "    \"salary\":[20000,30000,2122,100000,56000,40000],\n",
    "    \"age\":[11,22,32,11,34,54],\n",
    "    \"performance score\":[23,67,87,65,77,87]\n",
    "\n",
    "}\n",
    "df=pd.DataFrame(data)\n",
    "print(df)\n",
    "# .loc[]\n",
    "# df.loc[row_index,\"column name\"] =new value\n",
    "df.loc[0,'salary']=55000\n",
    "print(df)"
   ]
  }
 ],
 "metadata": {
  "kernelspec": {
   "display_name": "base",
   "language": "python",
   "name": "python3"
  },
  "language_info": {
   "codemirror_mode": {
    "name": "ipython",
    "version": 3
   },
   "file_extension": ".py",
   "mimetype": "text/x-python",
   "name": "python",
   "nbconvert_exporter": "python",
   "pygments_lexer": "ipython3",
   "version": "3.11.7"
  }
 },
 "nbformat": 4,
 "nbformat_minor": 5
}
